{
 "cells": [
  {
   "cell_type": "code",
   "execution_count": 1,
   "metadata": {},
   "outputs": [],
   "source": [
    "\n",
    "using HTTP\n",
    "using JSON3"
   ]
  },
  {
   "cell_type": "code",
   "execution_count": 3,
   "metadata": {},
   "outputs": [
    {
     "data": {
      "text/plain": [
       "\"https://api.coingecko.com/api/v3/\""
      ]
     },
     "metadata": {},
     "output_type": "display_data"
    }
   ],
   "source": [
    "const global url_base = \"https://api.coingecko.com/api/v3/\""
   ]
  },
  {
   "cell_type": "code",
   "execution_count": 6,
   "metadata": {},
   "outputs": [
    {
     "data": {
      "text/plain": [
       "ping (generic function with 1 method)"
      ]
     },
     "metadata": {},
     "output_type": "display_data"
    }
   ],
   "source": [
    "function ping()\n",
    "    apiurl =\"ping\"\n",
    "    r =  HTTP.request(\"GET\", url_base * apiurl)\n",
    "    r = String(r.body)\n",
    "    return JSON3.read(r)\n",
    "\n",
    "end"
   ]
  },
  {
   "cell_type": "code",
   "execution_count": 8,
   "metadata": {},
   "outputs": [
    {
     "data": {
      "text/plain": [
       "JSON3.Object{Base.CodeUnits{UInt8, String}, Vector{UInt64}} with 1 entry:\n",
       "  :gecko_says => \"(V3) To the Moon!\""
      ]
     },
     "metadata": {},
     "output_type": "display_data"
    }
   ],
   "source": [
    "a = ping()"
   ]
  },
  {
   "cell_type": "code",
   "execution_count": 9,
   "metadata": {},
   "outputs": [
    {
     "data": {
      "text/plain": [
       "JSON3.Object{Base.CodeUnits{UInt8, String}, Vector{UInt64}}"
      ]
     },
     "metadata": {},
     "output_type": "display_data"
    }
   ],
   "source": [
    "typeof(a)"
   ]
  },
  {
   "cell_type": "code",
   "execution_count": 10,
   "metadata": {},
   "outputs": [
    {
     "data": {
      "text/plain": [
       "(:buf, :tape, :inds)"
      ]
     },
     "metadata": {},
     "output_type": "display_data"
    }
   ],
   "source": [
    "fieldnames(typeof(a))"
   ]
  },
  {
   "cell_type": "code",
   "execution_count": 25,
   "metadata": {},
   "outputs": [
    {
     "data": {
      "text/plain": [
       "_api_url_params (generic function with 4 methods)"
      ]
     },
     "metadata": {},
     "output_type": "display_data"
    }
   ],
   "source": [
    "function _api_url_params(api_url::String, params::Dict, api_url_has_params = false)\n",
    "    if api_url_has_params\n",
    "        api_url = api_url * \"&\"\n",
    "    else\n",
    "        api_url += api_url * \"?\"\n",
    "    end\n",
    "\n",
    "    \n",
    "\n",
    "    for k in keys(params) v in values(params) do\n",
    "        api_url = api_url * k * \"=\" * v * \"&\"\n",
    "    end\n",
    "\n",
    "    return api_url\n",
    "end\n",
    "\n",
    "\n",
    "end"
   ]
  },
  {
   "cell_type": "code",
   "execution_count": 26,
   "metadata": {},
   "outputs": [
    {
     "ename": "MethodError",
     "evalue": "MethodError: no method matching values(::var\"#9#10\"{String}, ::Dict{Any, Any})\nClosest candidates are:\n  values(::Any) at C:\\Users\\gilju\\AppData\\Local\\Programs\\Julia-1.7.0\\share\\julia\\base\\essentials.jl:800",
     "output_type": "error",
     "traceback": [
      "MethodError: no method matching values(::var\"#9#10\"{String}, ::Dict{Any, Any})\n",
      "Closest candidates are:\n",
      "  values(::Any) at C:\\Users\\gilju\\AppData\\Local\\Programs\\Julia-1.7.0\\share\\julia\\base\\essentials.jl:800\n",
      "\n",
      "Stacktrace:\n",
      "  [1] _api_url_params(api_url::String, params::Dict{Any, Any}, api_url_has_params::Bool)\n",
      "    @ Main c:\\Users\\gilju\\OneDrive\\Documents\\Dev\\Projects\\CoinGeckoAPI\\src\\sketch.ipynb:10\n",
      "  [2] top-level scope\n",
      "    @ c:\\Users\\gilju\\OneDrive\\Documents\\Dev\\Projects\\CoinGeckoAPI\\src\\sketch.ipynb:1\n",
      "  [3] eval\n",
      "    @ .\\boot.jl:373 [inlined]\n",
      "  [4] include_string(mapexpr::typeof(REPL.softscope), mod::Module, code::String, filename::String)\n",
      "    @ Base .\\loading.jl:1196\n",
      "  [5] #invokelatest#2\n",
      "    @ .\\essentials.jl:716 [inlined]\n",
      "  [6] invokelatest\n",
      "    @ .\\essentials.jl:714 [inlined]\n",
      "  [7] (::VSCodeServer.var\"#150#151\"{VSCodeServer.NotebookRunCellArguments, String})()\n",
      "    @ VSCodeServer c:\\Users\\gilju\\.vscode\\extensions\\julialang.language-julia-1.5.8\\scripts\\packages\\VSCodeServer\\src\\serve_notebook.jl:18\n",
      "  [8] withpath(f::VSCodeServer.var\"#150#151\"{VSCodeServer.NotebookRunCellArguments, String}, path::String)\n",
      "    @ VSCodeServer c:\\Users\\gilju\\.vscode\\extensions\\julialang.language-julia-1.5.8\\scripts\\packages\\VSCodeServer\\src\\repl.jl:185\n",
      "  [9] notebook_runcell_request(conn::VSCodeServer.JSONRPC.JSONRPCEndpoint{Base.PipeEndpoint, Base.PipeEndpoint}, params::VSCodeServer.NotebookRunCellArguments)\n",
      "    @ VSCodeServer c:\\Users\\gilju\\.vscode\\extensions\\julialang.language-julia-1.5.8\\scripts\\packages\\VSCodeServer\\src\\serve_notebook.jl:14\n",
      " [10] dispatch_msg(x::VSCodeServer.JSONRPC.JSONRPCEndpoint{Base.PipeEndpoint, Base.PipeEndpoint}, dispatcher::VSCodeServer.JSONRPC.MsgDispatcher, msg::Dict{String, Any})\n",
      "    @ VSCodeServer.JSONRPC c:\\Users\\gilju\\.vscode\\extensions\\julialang.language-julia-1.5.8\\scripts\\packages\\JSONRPC\\src\\typed.jl:67\n",
      " [11] serve_notebook(pipename::String; crashreporting_pipename::String)\n",
      "    @ VSCodeServer c:\\Users\\gilju\\.vscode\\extensions\\julialang.language-julia-1.5.8\\scripts\\packages\\VSCodeServer\\src\\serve_notebook.jl:94\n",
      " [12] top-level scope\n",
      "    @ c:\\Users\\gilju\\.vscode\\extensions\\julialang.language-julia-1.5.8\\scripts\\notebook\\notebook.jl:12\n",
      " [13] include(mod::Module, _path::String)\n",
      "    @ Base .\\Base.jl:418\n",
      " [14] exec_options(opts::Base.JLOptions)\n",
      "    @ Base .\\client.jl:292\n",
      " [15] _start()\n",
      "    @ Base .\\client.jl:495"
     ]
    }
   ],
   "source": [
    "_api_url_params(\"simple/price\", params, true)"
   ]
  },
  {
   "cell_type": "code",
   "execution_count": 33,
   "metadata": {},
   "outputs": [
    {
     "data": {
      "text/plain": [
       "\"true\""
      ]
     },
     "metadata": {},
     "output_type": "display_data"
    }
   ],
   "source": [
    "params=Dict()\n",
    "params[\"ids\"] = \"bitcoin\"\n",
    "params[\"vs_currencies\"] = \"usd\"\n",
    "params[\"include_market_cap\"] = \"true\""
   ]
  },
  {
   "cell_type": "code",
   "execution_count": 34,
   "metadata": {},
   "outputs": [
    {
     "data": {
      "text/plain": [
       "Dict{Any, Any} with 3 entries:\n",
       "  \"ids\"                => \"bitcoin\"\n",
       "  \"include_market_cap\" => \"true\"\n",
       "  \"vs_currencies\"      => \"usd\""
      ]
     },
     "metadata": {},
     "output_type": "display_data"
    }
   ],
   "source": [
    "params\n"
   ]
  },
  {
   "cell_type": "code",
   "execution_count": 63,
   "metadata": {},
   "outputs": [],
   "source": [
    "api_url1=\"\"\n",
    "api_url=\"\"\n",
    "\n",
    "for p in params \n",
    "    api_url *=  p.first * \"=\" * String(p.second) * \"&\"\n",
    "    api_url1 *= api_url\n",
    "    \n",
    "\n",
    "end\n"
   ]
  },
  {
   "cell_type": "code",
   "execution_count": 114,
   "metadata": {},
   "outputs": [
    {
     "data": {
      "text/plain": [
       "\"\""
      ]
     },
     "metadata": {},
     "output_type": "display_data"
    }
   ],
   "source": [
    "api_url=\"\""
   ]
  },
  {
   "cell_type": "code",
   "execution_count": 42,
   "metadata": {},
   "outputs": [
    {
     "ename": "MethodError",
     "evalue": "MethodError: no method matching push!(::String, ::String)\nClosest candidates are:\n  push!(::Any, ::Any, !Matched::Any) at C:\\Users\\gilju\\AppData\\Local\\Programs\\Julia-1.7.0\\share\\julia\\base\\abstractarray.jl:2952\n  push!(::Any, ::Any, !Matched::Any, !Matched::Any...) at C:\\Users\\gilju\\AppData\\Local\\Programs\\Julia-1.7.0\\share\\julia\\base\\abstractarray.jl:2953\n  push!(!Matched::Base.IdSet, ::Any) at C:\\Users\\gilju\\AppData\\Local\\Programs\\Julia-1.7.0\\share\\julia\\base\\idset.jl:20\n  ...",
     "output_type": "error",
     "traceback": [
      "MethodError: no method matching push!(::String, ::String)\n",
      "Closest candidates are:\n",
      "  push!(::Any, ::Any, !Matched::Any) at C:\\Users\\gilju\\AppData\\Local\\Programs\\Julia-1.7.0\\share\\julia\\base\\abstractarray.jl:2952\n",
      "  push!(::Any, ::Any, !Matched::Any, !Matched::Any...) at C:\\Users\\gilju\\AppData\\Local\\Programs\\Julia-1.7.0\\share\\julia\\base\\abstractarray.jl:2953\n",
      "  push!(!Matched::Base.IdSet, ::Any) at C:\\Users\\gilju\\AppData\\Local\\Programs\\Julia-1.7.0\\share\\julia\\base\\idset.jl:20\n",
      "  ...\n",
      "\n",
      "Stacktrace:\n",
      "  [1] top-level scope\n",
      "    @ c:\\Users\\gilju\\OneDrive\\Documents\\Dev\\Projects\\CoinGeckoAPI\\src\\sketch.ipynb:1\n",
      "  [2] eval\n",
      "    @ .\\boot.jl:373 [inlined]\n",
      "  [3] include_string(mapexpr::typeof(REPL.softscope), mod::Module, code::String, filename::String)\n",
      "    @ Base .\\loading.jl:1196\n",
      "  [4] #invokelatest#2\n",
      "    @ .\\essentials.jl:716 [inlined]\n",
      "  [5] invokelatest\n",
      "    @ .\\essentials.jl:714 [inlined]\n",
      "  [6] (::VSCodeServer.var\"#150#151\"{VSCodeServer.NotebookRunCellArguments, String})()\n",
      "    @ VSCodeServer c:\\Users\\gilju\\.vscode\\extensions\\julialang.language-julia-1.5.8\\scripts\\packages\\VSCodeServer\\src\\serve_notebook.jl:18\n",
      "  [7] withpath(f::VSCodeServer.var\"#150#151\"{VSCodeServer.NotebookRunCellArguments, String}, path::String)\n",
      "    @ VSCodeServer c:\\Users\\gilju\\.vscode\\extensions\\julialang.language-julia-1.5.8\\scripts\\packages\\VSCodeServer\\src\\repl.jl:185\n",
      "  [8] notebook_runcell_request(conn::VSCodeServer.JSONRPC.JSONRPCEndpoint{Base.PipeEndpoint, Base.PipeEndpoint}, params::VSCodeServer.NotebookRunCellArguments)\n",
      "    @ VSCodeServer c:\\Users\\gilju\\.vscode\\extensions\\julialang.language-julia-1.5.8\\scripts\\packages\\VSCodeServer\\src\\serve_notebook.jl:14\n",
      "  [9] dispatch_msg(x::VSCodeServer.JSONRPC.JSONRPCEndpoint{Base.PipeEndpoint, Base.PipeEndpoint}, dispatcher::VSCodeServer.JSONRPC.MsgDispatcher, msg::Dict{String, Any})\n",
      "    @ VSCodeServer.JSONRPC c:\\Users\\gilju\\.vscode\\extensions\\julialang.language-julia-1.5.8\\scripts\\packages\\JSONRPC\\src\\typed.jl:67\n",
      " [10] serve_notebook(pipename::String; crashreporting_pipename::String)\n",
      "    @ VSCodeServer c:\\Users\\gilju\\.vscode\\extensions\\julialang.language-julia-1.5.8\\scripts\\packages\\VSCodeServer\\src\\serve_notebook.jl:94\n",
      " [11] top-level scope\n",
      "    @ c:\\Users\\gilju\\.vscode\\extensions\\julialang.language-julia-1.5.8\\scripts\\notebook\\notebook.jl:12\n",
      " [12] include(mod::Module, _path::String)\n",
      "    @ Base .\\Base.jl:418\n",
      " [13] exec_options(opts::Base.JLOptions)\n",
      "    @ Base .\\client.jl:292\n",
      " [14] _start()\n",
      "    @ Base .\\client.jl:495"
     ]
    }
   ],
   "source": [
    "push!(\"\", \"d\")"
   ]
  },
  {
   "cell_type": "code",
   "execution_count": 100,
   "metadata": {},
   "outputs": [
    {
     "data": {
      "text/plain": [
       "get_price (generic function with 1 method)"
      ]
     },
     "metadata": {},
     "output_type": "display_data"
    }
   ],
   "source": [
    "\n",
    "\n",
    "function get_price(ids, vs_currencies, kargs...)\n",
    "    apiurl = \"simple/price\"\n",
    "    kwards= Dict(kargs)\n",
    "    kwards[\"ids\"] = ids\n",
    "    kwards[\"vs_currencies\"] = vs_currencies\n",
    "\n",
    "    api_url = _api_url_params(apiurl, kwards)\n",
    "    return api_url\n",
    "\n",
    "end\n"
   ]
  },
  {
   "cell_type": "code",
   "execution_count": 102,
   "metadata": {},
   "outputs": [
    {
     "data": {
      "text/plain": [
       "_api_url_params (generic function with 4 methods)"
      ]
     },
     "metadata": {},
     "output_type": "display_data"
    }
   ],
   "source": [
    "function _api_url_params(api_url, params, api_url_has_params = false)\n",
    "    \n",
    "    if api_url_has_params == true\n",
    "        url = api_url * \"&\"\n",
    "    else\n",
    "        url = api_url * \"?\"\n",
    "    end\n",
    "\n",
    "    # for p in params \n",
    "    #     api_url *=  p.first * \"=\" * String(p.second) * \"&\"\n",
    "    # end\n",
    "\n",
    "    return api_url\n",
    "end"
   ]
  },
  {
   "cell_type": "code",
   "execution_count": 103,
   "metadata": {},
   "outputs": [
    {
     "ename": "MethodError",
     "evalue": "MethodError: no method matching +(::String, ::String)\nClosest candidates are:\n  +(::Any, ::Any, !Matched::Any, !Matched::Any...) at C:\\Users\\gilju\\AppData\\Local\\Programs\\Julia-1.7.0\\share\\julia\\base\\operators.jl:655",
     "output_type": "error",
     "traceback": [
      "MethodError: no method matching +(::String, ::String)\n",
      "Closest candidates are:\n",
      "  +(::Any, ::Any, !Matched::Any, !Matched::Any...) at C:\\Users\\gilju\\AppData\\Local\\Programs\\Julia-1.7.0\\share\\julia\\base\\operators.jl:655\n",
      "\n",
      "Stacktrace:\n",
      "  [1] _api_url_params(api_url::String, params::Dict{String, String}, api_url_has_params::Bool)\n",
      "    @ Main c:\\Users\\gilju\\OneDrive\\Documents\\Dev\\Projects\\CoinGeckoAPI\\src\\sketch.ipynb:5\n",
      "  [2] _api_url_params\n",
      "    @ c:\\Users\\gilju\\OneDrive\\Documents\\Dev\\Projects\\CoinGeckoAPI\\src\\sketch.ipynb:2 [inlined]\n",
      "  [3] get_price(::String, ::String, ::Pair{String, String}, ::Vararg{Pair{String, String}})\n",
      "    @ Main c:\\Users\\gilju\\OneDrive\\Documents\\Dev\\Projects\\CoinGeckoAPI\\src\\sketch.ipynb:15\n",
      "  [4] top-level scope\n",
      "    @ c:\\Users\\gilju\\OneDrive\\Documents\\Dev\\Projects\\CoinGeckoAPI\\src\\sketch.ipynb:1\n",
      "  [5] eval\n",
      "    @ .\\boot.jl:373 [inlined]\n",
      "  [6] include_string(mapexpr::typeof(REPL.softscope), mod::Module, code::String, filename::String)\n",
      "    @ Base .\\loading.jl:1196\n",
      "  [7] #invokelatest#2\n",
      "    @ .\\essentials.jl:716 [inlined]\n",
      "  [8] invokelatest\n",
      "    @ .\\essentials.jl:714 [inlined]\n",
      "  [9] (::VSCodeServer.var\"#150#151\"{VSCodeServer.NotebookRunCellArguments, String})()\n",
      "    @ VSCodeServer c:\\Users\\gilju\\.vscode\\extensions\\julialang.language-julia-1.5.8\\scripts\\packages\\VSCodeServer\\src\\serve_notebook.jl:18\n",
      " [10] withpath(f::VSCodeServer.var\"#150#151\"{VSCodeServer.NotebookRunCellArguments, String}, path::String)\n",
      "    @ VSCodeServer c:\\Users\\gilju\\.vscode\\extensions\\julialang.language-julia-1.5.8\\scripts\\packages\\VSCodeServer\\src\\repl.jl:185\n",
      " [11] notebook_runcell_request(conn::VSCodeServer.JSONRPC.JSONRPCEndpoint{Base.PipeEndpoint, Base.PipeEndpoint}, params::VSCodeServer.NotebookRunCellArguments)\n",
      "    @ VSCodeServer c:\\Users\\gilju\\.vscode\\extensions\\julialang.language-julia-1.5.8\\scripts\\packages\\VSCodeServer\\src\\serve_notebook.jl:14\n",
      " [12] dispatch_msg(x::VSCodeServer.JSONRPC.JSONRPCEndpoint{Base.PipeEndpoint, Base.PipeEndpoint}, dispatcher::VSCodeServer.JSONRPC.MsgDispatcher, msg::Dict{String, Any})\n",
      "    @ VSCodeServer.JSONRPC c:\\Users\\gilju\\.vscode\\extensions\\julialang.language-julia-1.5.8\\scripts\\packages\\JSONRPC\\src\\typed.jl:67\n",
      " [13] serve_notebook(pipename::String; crashreporting_pipename::String)\n",
      "    @ VSCodeServer c:\\Users\\gilju\\.vscode\\extensions\\julialang.language-julia-1.5.8\\scripts\\packages\\VSCodeServer\\src\\serve_notebook.jl:94\n",
      " [14] top-level scope\n",
      "    @ c:\\Users\\gilju\\.vscode\\extensions\\julialang.language-julia-1.5.8\\scripts\\notebook\\notebook.jl:12\n",
      " [15] include(mod::Module, _path::String)\n",
      "    @ Base .\\Base.jl:418\n",
      " [16] exec_options(opts::Base.JLOptions)\n",
      "    @ Base .\\client.jl:292\n",
      " [17] _start()\n",
      "    @ Base .\\client.jl:495"
     ]
    }
   ],
   "source": [
    "get_price(\"bitcoin\", \"usd\", \"include_market_cap\" => \"true\", \"include_24hr_vol\" => \"true\", \"include_24hr_change\" => \"true\")\n"
   ]
  },
  {
   "cell_type": "code",
   "execution_count": 116,
   "metadata": {},
   "outputs": [
    {
     "data": {
      "text/plain": [
       "Dict{String, Bool} with 3 entries:\n",
       "  \"include_24hr_vol\"    => 1\n",
       "  \"include_24hr_change\" => 1\n",
       "  \"include_market_cap\"  => 1"
      ]
     },
     "metadata": {},
     "output_type": "display_data"
    }
   ],
   "source": [
    "d = Dict([\"include_market_cap\" => true, \"include_24hr_vol\" => true, \"include_24hr_change\" => true])"
   ]
  },
  {
   "cell_type": "code",
   "execution_count": 107,
   "metadata": {},
   "outputs": [
    {
     "data": {
      "text/plain": [
       "\"ids=bitcoin&include_market_cap=true&vs_currencies=usd&&\""
      ]
     },
     "metadata": {},
     "output_type": "display_data"
    }
   ],
   "source": [
    "apiurl = \"simple/price\"\n",
    "api_url_has_params = true\n",
    "if api_url_has_params == true\n",
    "    apiurl = api_url * \"&\"\n",
    "else\n",
    "    apiurl = api_url * \"?\"\n",
    "end"
   ]
  },
  {
   "cell_type": "code",
   "execution_count": 115,
   "metadata": {},
   "outputs": [
    {
     "ename": "MethodError",
     "evalue": "MethodError: no method matching +(::String, ::String)\nClosest candidates are:\n  +(::Any, ::Any, !Matched::Any, !Matched::Any...) at C:\\Users\\gilju\\AppData\\Local\\Programs\\Julia-1.7.0\\share\\julia\\base\\operators.jl:655",
     "output_type": "error",
     "traceback": [
      "MethodError: no method matching +(::String, ::String)\n",
      "Closest candidates are:\n",
      "  +(::Any, ::Any, !Matched::Any, !Matched::Any...) at C:\\Users\\gilju\\AppData\\Local\\Programs\\Julia-1.7.0\\share\\julia\\base\\operators.jl:655\n",
      "\n",
      "Stacktrace:\n",
      "  [1] _api_url_params(api_url::String, params::Dict{String, Bool}, api_url_has_params::Bool)\n",
      "    @ Main c:\\Users\\gilju\\OneDrive\\Documents\\Dev\\Projects\\CoinGeckoAPI\\src\\sketch.ipynb:5\n",
      "  [2] _api_url_params(api_url::String, params::Dict{String, Bool})\n",
      "    @ Main c:\\Users\\gilju\\OneDrive\\Documents\\Dev\\Projects\\CoinGeckoAPI\\src\\sketch.ipynb:2\n",
      "  [3] top-level scope\n",
      "    @ c:\\Users\\gilju\\OneDrive\\Documents\\Dev\\Projects\\CoinGeckoAPI\\src\\sketch.ipynb:1\n",
      "  [4] eval\n",
      "    @ .\\boot.jl:373 [inlined]\n",
      "  [5] include_string(mapexpr::typeof(REPL.softscope), mod::Module, code::String, filename::String)\n",
      "    @ Base .\\loading.jl:1196\n",
      "  [6] #invokelatest#2\n",
      "    @ .\\essentials.jl:716 [inlined]\n",
      "  [7] invokelatest\n",
      "    @ .\\essentials.jl:714 [inlined]\n",
      "  [8] (::VSCodeServer.var\"#150#151\"{VSCodeServer.NotebookRunCellArguments, String})()\n",
      "    @ VSCodeServer c:\\Users\\gilju\\.vscode\\extensions\\julialang.language-julia-1.5.8\\scripts\\packages\\VSCodeServer\\src\\serve_notebook.jl:18\n",
      "  [9] withpath(f::VSCodeServer.var\"#150#151\"{VSCodeServer.NotebookRunCellArguments, String}, path::String)\n",
      "    @ VSCodeServer c:\\Users\\gilju\\.vscode\\extensions\\julialang.language-julia-1.5.8\\scripts\\packages\\VSCodeServer\\src\\repl.jl:185\n",
      " [10] notebook_runcell_request(conn::VSCodeServer.JSONRPC.JSONRPCEndpoint{Base.PipeEndpoint, Base.PipeEndpoint}, params::VSCodeServer.NotebookRunCellArguments)\n",
      "    @ VSCodeServer c:\\Users\\gilju\\.vscode\\extensions\\julialang.language-julia-1.5.8\\scripts\\packages\\VSCodeServer\\src\\serve_notebook.jl:14\n",
      " [11] dispatch_msg(x::VSCodeServer.JSONRPC.JSONRPCEndpoint{Base.PipeEndpoint, Base.PipeEndpoint}, dispatcher::VSCodeServer.JSONRPC.MsgDispatcher, msg::Dict{String, Any})\n",
      "    @ VSCodeServer.JSONRPC c:\\Users\\gilju\\.vscode\\extensions\\julialang.language-julia-1.5.8\\scripts\\packages\\JSONRPC\\src\\typed.jl:67\n",
      " [12] serve_notebook(pipename::String; crashreporting_pipename::String)\n",
      "    @ VSCodeServer c:\\Users\\gilju\\.vscode\\extensions\\julialang.language-julia-1.5.8\\scripts\\packages\\VSCodeServer\\src\\serve_notebook.jl:94\n",
      " [13] top-level scope\n",
      "    @ c:\\Users\\gilju\\.vscode\\extensions\\julialang.language-julia-1.5.8\\scripts\\notebook\\notebook.jl:12\n",
      " [14] include(mod::Module, _path::String)\n",
      "    @ Base .\\Base.jl:418\n",
      " [15] exec_options(opts::Base.JLOptions)\n",
      "    @ Base .\\client.jl:292\n",
      " [16] _start()\n",
      "    @ Base .\\client.jl:495"
     ]
    }
   ],
   "source": [
    "_api_url_params(\"simple/price\", d)"
   ]
  },
  {
   "cell_type": "code",
   "execution_count": 113,
   "metadata": {},
   "outputs": [
    {
     "data": {
      "text/plain": [
       "\"simple/price&\""
      ]
     },
     "metadata": {},
     "output_type": "display_data"
    }
   ],
   "source": [
    "\"simple/price\" * \"&\""
   ]
  },
  {
   "cell_type": "code",
   "execution_count": null,
   "metadata": {},
   "outputs": [],
   "source": [
    "d = Dict([\"include_market_cap\" => \"true\", \"include_24hr_vol\" => \"true\", \"include_24hr_change\" => \"true\"])\n",
    "apiurl = \"simple/price\"\n",
    "s = _api_url_params(\"simple/price\", d)"
   ]
  }
 ],
 "metadata": {
  "kernelspec": {
   "display_name": "Julia 1.7.0",
   "language": "julia",
   "name": "julia-1.7"
  },
  "language_info": {
   "file_extension": ".jl",
   "mimetype": "application/julia",
   "name": "julia",
   "version": "1.7.0"
  },
  "orig_nbformat": 4
 },
 "nbformat": 4,
 "nbformat_minor": 2
}
